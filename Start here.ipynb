{
 "cells": [
  {
   "cell_type": "markdown",
   "metadata": {},
   "source": [
    "# About this workshop\n",
    "\n",
    "### Goal\n",
    "The goal of this tutorial is to give you an introduction and example of the possibilities of model-based fMRI-analyses. It includes an example study and some *start points* to find your way through the jungle of possibilities of analyses.\n",
    "\n",
    "\n",
    "### Coding language\n",
    "For all fMRI-analyses, we will use Python. For modelling the behavioral data (Part 2 below) we will use `DMC`, which is an R software package. No coding experience is absolutely necessary, although it comes in handy. Mostly, you can do the exersises by just copying code from other places in the tutorial and adjusting them. Or you can peek at the answers - these exercises are only included to make you think about certain parts of the tutorial, but you could also ignore them.\n",
    "\n",
    "\n",
    "### Prior knowledge\n",
    "The tutorial assumes that you more or less know what the drift diffusion model (DDM) is. Further, you need some basic knowledge about MRI. See, for example, the accompanying slides for an overview.\n",
    "\n",
    "\n",
    "### Data\n",
    "In this workshop, we'll be analyzing data from [Van Maanen, L., Brown, S. D., Eichele, T., Wagenmakers, E.-J., Ho, T. C., Serences, J. T., & Forstmann, B. U. (2011). Neural Correlates of Trial-to-Trial Fluctuations in Response Caution. Journal of Neuroscience, 31(48), 17488–17495.](https://doi.org/10.1523/JNEUROSCI.2924-11.2011)\n",
    "\n",
    "We will *not* do the single-trial LBA analyses reported in the paper, but instead, we'll use a basic between-subject approach to see in which brain areas the BOLD-response correlates with threshold adjustments. In essence, we'll be doing the type of approach done by Birte Forstmann in this paper: [Forstmann, B. U., Dutilh, G., Brown, S. D., Neumann, J., von Cramon, D. Y., Ridderinkhof, K. R., & Wagenmakers, E.-J. (2008). Striatum and pre-SMA facilitate decision-making under time pressure. Proceedings of the National Academy of Sciences of the United States of America, 105(45), 17538–17542.](https://doi.org/10.1073/pnas.0805903105)\n",
    "\n",
    "\n",
    "### Set-up\n",
    "This tutorial consists of the following parts:\n",
    "\n",
    "- Part 0. Introduction to Python\n",
    "- Part 1. Preprocessing\n",
    "- Part 2. Modelling the behavioral data\n",
    "- Part 3. Extracting signal from a region of interest\n",
    "- Part 4. Model-based analyses\n",
    "\n",
    "Part 0 is intended for those of you who want to learn Python. Again, it's not strictly necessary to know Python in order to do this tutorial, but it's a very useful skill. This notebook is fully developed by [Lukas Snoek](https://github.com/lukassnoek/) as part of the UvA-course neuroimaging. There may still be some references to assignments / points / grades (I removed most), you can ignore these of course. Further, it's too long to fully finish today but you may want to skim through it a bit or keep it as background material. (I named it 0 because it's not really part of today's tutorial, and because Python starts counting at 0 - you want to keep this in mind if you're coming from R or Matlab).\n",
    "\n",
    "Part 1 gives an introduction into the possibilities of preprocessing (f)MRI data. It considers two options you can choose from: either use `fmriprep`, or building a pipeline yourself in `Nipype`.\n",
    "\n",
    "Part 2 models the behavioral data in the data set using `DMC`. If all went smoothly in the summer school, you have seen this type of analysis before.\n",
    "\n",
    "Part 3 extracts signal from a region of interest, in our case Striatum\n",
    "\n",
    "Part 4 does a simple model-based analysis of the fMRI data\n",
    "\n",
    "Each part of the tutorial can be done independently. You could consider skipping Part 2, since modelling behavioral data is also part of the previous tutorials in this summer school. Also, the intermediate results of analyses done in Part 1, 2, and 3 are saved, and you can just load these if you don't want to do them."
   ]
  },
  {
   "cell_type": "markdown",
   "metadata": {},
   "source": [
    "## I want to download the tutorial\n",
    "You can find it on [my github](https://github.com/stevenm1/summerschool_mbn_2018). You will need to install Python 3.6 and a lot of libraries used here in order to be able to run it (I plan to create a requirements file with all libraries but haven't done this yet)\n",
    "\n",
    "## I want to download the fMRI-data\n",
    "You can; first create a 'tar'-file from the raw/preprocessed data (this may take a while):"
   ]
  },
  {
   "cell_type": "code",
   "execution_count": 1,
   "metadata": {},
   "outputs": [
    {
     "name": "stdout",
     "output_type": "stream",
     "text": [
      "tar: Removing leading `/' from member names\r\n"
     ]
    }
   ],
   "source": [
    "!tar -cf raw_data.tar /data/bids"
   ]
  },
  {
   "cell_type": "code",
   "execution_count": 2,
   "metadata": {},
   "outputs": [
    {
     "name": "stdout",
     "output_type": "stream",
     "text": [
      "tar: Removing leading `/' from member names\r\n"
     ]
    }
   ],
   "source": [
    "!tar -cf prep_data.tar /data/deriv"
   ]
  },
  {
   "cell_type": "markdown",
   "metadata": {},
   "source": [
    "Then, create you can create a link to those files:"
   ]
  },
  {
   "cell_type": "code",
   "execution_count": 3,
   "metadata": {},
   "outputs": [
    {
     "data": {
      "text/html": [
       "<a href='raw_data.tar' target='_blank'>raw_data.tar</a><br>"
      ],
      "text/plain": [
       "/home/neuro/nipype_tutorial/raw_data.tar"
      ]
     },
     "execution_count": 3,
     "metadata": {},
     "output_type": "execute_result"
    }
   ],
   "source": [
    "from IPython.display import FileLink\n",
    "FileLink('raw_data.tar')  # about 2GB"
   ]
  },
  {
   "cell_type": "code",
   "execution_count": 4,
   "metadata": {},
   "outputs": [
    {
     "data": {
      "text/html": [
       "<a href='prep_data.tar' target='_blank'>prep_data.tar</a><br>"
      ],
      "text/plain": [
       "/home/neuro/nipype_tutorial/prep_data.tar"
      ]
     },
     "execution_count": 4,
     "metadata": {},
     "output_type": "execute_result"
    }
   ],
   "source": [
    "FileLink('prep_data.tar')  # about 16GB"
   ]
  },
  {
   "cell_type": "markdown",
   "metadata": {},
   "source": [
    "Note that these data are currently not openly available elsewhere (feel free to use it though). We're considering uploading this dataset to openneuro, but the data set is quite old (collected in 2009) and unfortunately some metadata (e.g., the slice timing and various other recommended metadata fields) got lost over time, so it's somewhat incomplete. But it's a nice data set for this tutorial."
   ]
  },
  {
   "cell_type": "markdown",
   "metadata": {},
   "source": [
    "## Credits\n",
    "This tutorial borrows heavily from previous versions, set-up by [Gilles de Hollander](http://www.gillesdehollander.nl/), who is now a postdoctoral researcher at the Vrije Universiteit (VU) Amsterdam.\n",
    "Thanks further to [Lukas Snoek](https://www.github.com/lukassnoek), who developed Part 0."
   ]
  },
  {
   "cell_type": "code",
   "execution_count": null,
   "metadata": {},
   "outputs": [],
   "source": []
  }
 ],
 "metadata": {
  "kernelspec": {
   "display_name": "Python [default]",
   "language": "python",
   "name": "python3"
  },
  "language_info": {
   "codemirror_mode": {
    "name": "ipython",
    "version": 3
   },
   "file_extension": ".py",
   "mimetype": "text/x-python",
   "name": "python",
   "nbconvert_exporter": "python",
   "pygments_lexer": "ipython3",
   "version": "3.6.4"
  }
 },
 "nbformat": 4,
 "nbformat_minor": 2
}
